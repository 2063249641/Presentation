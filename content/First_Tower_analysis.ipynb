{
 "cells": [
  {
   "cell_type": "code",
   "execution_count": 2,
   "id": "4d9a2976-fde6-4492-97cb-b847cb579643",
   "metadata": {
    "slideshow": {
     "slide_type": "skip"
    },
    "tags": []
   },
   "outputs": [],
   "source": [
    "from rich import print"
   ]
  },
  {
   "cell_type": "markdown",
   "id": "5df9a4b3-c474-47f2-beb0-5c82ee4fb0b3",
   "metadata": {
    "slideshow": {
     "slide_type": "slide"
    },
    "tags": []
   },
   "source": [
    "# 2023-02-14 底层塔计算 - 门洞钢筋的补全📢\n",
    "2023-02-13，zeyu，wangdan  \n",
    "2023-02-14，zeyu 分析\n",
    "\n",
    "- **Firsrt_Tower_lxq_2.cae**\n",
    "  - **模型描述**：\n",
    "    - 底层塔门洞部分加入了斜向的钢筋和圈筋（？是这么叫嘛哈哈哈） \n",
    "  - **结果分析**：\n",
    "    - **Firsrt_Tower_zy_9.inp:** 其它荷载，本构都和Firsrt_Tower_zy_8.inp一致，只是多加了几根钢筋。\n",
    "                             结果：还是会破坏\n",
    "    - **Firsrt_Tower_zy_10.inp:** 其它荷载，本构都和Firsrt_Tower_zy_7.inp一致，只是多加了几根钢筋。\n",
    "                             结果：损伤比较严重。拉和压都比较严重？幅值和没加门筋的时候差不多。\n",
    "                                   所以说门筋对混凝土破坏起作用不大？还是说钢筋的弹性模量弄错了？\n",
    "<br/>"
   ]
  },
  {
   "cell_type": "markdown",
   "id": "09b5063f-5788-4dfb-bd18-09eb4ebfa746",
   "metadata": {
    "slideshow": {
     "slide_type": "subslide"
    },
    "tags": []
   },
   "source": [
    "## 应力应变分布在有无加强筋下的对比分析\n",
    "\n",
    "### 考虑了混凝土的损伤因子:  \n",
    "有无加强筋对受拉应力的影响较大，而对于其它的影响十分小。可以认为没太大的影响？\n",
    "\n",
    "---\n",
    "**混凝土应力应变云图：**\n",
    "||受拉应力云图|受拉应变云图|受压应力云图|受压应变云图|\n",
    "|:---|:---:|:---:|:---:|:---:|\n",
    "|**无加强筋**|![Zy_7_S_Max_Principal.png](./Picture/First_Tower_analysis/Zy_7_S_Max_Principal.png)|![Zy_7_PE_Max_Principal.png](./Picture/First_Tower_analysis/Zy_7_PE_Max_Principal.png)|![Zy_7_S_Min_Principal.png](./Picture/First_Tower_analysis/Zy_7_S_Min_Principal.png)|![Zy_7_PE_Min_Principal.png](./Picture/First_Tower_analysis/Zy_7_PE_Min_Principal.png)|\n",
    "||max: 2.844Mpa|max: 3.076e-2|max: 43.35Mpa|max: 9.67e-3|\n",
    "|**有加强筋**|![Zy_10_S_Max_Principal.png](./Picture/First_Tower_analysis/Zy_10_S_Max_Principal.png)|![Zy_10_PE_Max_Principal.png](./Picture/First_Tower_analysis/Zy_10_PE_Max_Principal.png)|![Zy_10_S_Min_Principal.png](./Picture/First_Tower_analysis/Zy_10_S_Min_Principal.png)|![Zy_10_PE_Min_Principal.png](./Picture/First_Tower_analysis/Zy_10_PE_Min_Principal.png)|\n",
    "||max: 2.33Mpa|max: 3.006e-2|max: 44.96Mpa|max: 9.141e-3|\n",
    "  \n",
    "---\n",
    "<br/>\n",
    "\n",
    "**门筋（加强筋？）应力应变云图**\n",
    "|Mises应力云图|最大标准应变云图|\n",
    "|:---:|:---:|\n",
    "|![Zy_7_S_Max_Principal.png](./Picture/First_Tower_analysis/Zy_10_S_Mises_menjin.png)|![Zy_7_PE_Max_Principal.png](./Picture/First_Tower_analysis/Zy_10_E_Max_Principal_menjin.png)|\n",
    "|max: 349.8Mpa|max: 1.734e-3|"
   ]
  },
  {
   "cell_type": "markdown",
   "id": "6c8aaf9e-df45-43d7-86b6-49b42bf794d3",
   "metadata": {
    "slideshow": {
     "slide_type": "slide"
    },
    "tags": []
   },
   "source": [
    "# 2023-02-12 底层钢塔计算 - 尝试修改荷载📢\n",
    "2023-02-12，zeyu  \n",
    "2023-02-13, zeyu 修改\n",
    "\n",
    "- **Firsrt_Tower_lxq_1.cae**\n",
    "  - **模型描述**：\n",
    "    - None\n",
    "  - **结果分析**：\n",
    "    - **Firsrt_Tower_zy_6.inp:** 顶部荷载改为了-1.01306E+08N，比之前的大了一个数量级。考虑了钢筋塑性和混凝土损伤因子。\n",
    "    - **Firsrt_Tower_zy_7.inp:** 顶部荷载改为了(-9.6434e+07)N，比之前的大了一个数量级。考虑了钢筋塑性和混凝土损伤因子。顶部竖向荷载是预应力钢筋和4.04m处竖向荷载叠加得到，具体计算在jupyter中。  \n",
    "                             结果：结果比较正常，认为这样的计算是正确的。门洞附近的混凝土拉伸破坏比较严重，可以认为是没有**加入门洞的加强筋造成**的。  \n",
    "                                   但是事实上，混凝土拉碎是比较正常的现象，或许可以接受？\n",
    "    - **Firsrt_Tower_zy_8.inp:** 其它和 Firsrt_Tower_zy_7 一致，但是不考虑混凝土的损伤因子。用于得到损伤因子对这次分析的影响。  \n",
    "                             结果：有损伤因子的混凝土最大拉应力和最大压应力都比没有损伤因子的时候大。（拉：2.8，2.3；压：43，37）\n",
    "                                   两者的应力分布是比较相似的。"
   ]
  },
  {
   "cell_type": "markdown",
   "id": "2f4ec2c6-8b8a-48b7-841f-7a01e4eabb22",
   "metadata": {
    "slideshow": {
     "slide_type": "slide"
    },
    "tags": []
   },
   "source": [
    "## 计算最底层塔顶部荷载\n",
    "\n",
    "> 第一层塔计算过程中采用的顶部荷载为（高度4.04m）：  \n",
    "单位 $KN$ / $KN \\cdot m$\n",
    "  | Mx | My | Mxy | Mz | Fx | Fy | Fxy | Fz | Safety factor |\n",
    "  |:----:|:----:|:----:|:----:|:----:|:----:|:----:|:----:|:------------:|\n",
    "  | 175636 | -25792.8 | 177520 | 3896.42 | -224.892 | -1391.3 | 1409.35 | -21179.4 | 1.1 |\n",
    "\n",
    "实际在abaqus中，有 $M_{xy} = (177520)KN \\cdot m$，即$M_{x} = 175636KN; M_{y} = -25792.8KN$，$F_{z} = (-21179.4)KN$。  \n",
    "\n",
    "> 预应力钢筋有：根据图纸中36 孔预应力索，每孔9 根15.2mm 钢绞线，张拉控制应力1280MPa，考虑约138MPa 的预应力损失，通过降温法施加预应力。  \n",
    "即预应力钢筋截面积为：$9 \\times \\frac{1}{4} (0.0152m)^{2} \\times \\pi = 0.0016m^{2}$  \n",
    "\n",
    "预应力造成的荷载为：$(1.28E+09)Pa \\times (0.0016)m^{2} \\times 36 = (7.5254e+07) N$\n",
    "\n",
    "即第一层塔顶的总荷载：$7.5254e7 + 21179.4e3 = 9.6434e7 N$"
   ]
  },
  {
   "cell_type": "code",
   "execution_count": 3,
   "id": "83982be2-d67e-4b21-8e0a-213a882e1cad",
   "metadata": {
    "slideshow": {
     "slide_type": "slide"
    },
    "tags": []
   },
   "outputs": [
    {
     "data": {
      "text/html": [
       "<pre style=\"white-space:pre;overflow-x:auto;line-height:normal;font-family:Menlo,'DejaVu Sans Mono',consolas,'Courier New',monospace\">area_per_prestress : <span style=\"color: #008080; text-decoration-color: #008080; font-weight: bold\">1.6331e-03</span> m2\n",
       "Load per prestress bar : <span style=\"color: #008080; text-decoration-color: #008080; font-weight: bold\">2.0904e+06</span> N\n",
       "Load prestress bar : <span style=\"color: #008080; text-decoration-color: #008080; font-weight: bold\">7.5254e+07</span> N\n",
       "\n",
       "Fz on first tower top without prestress: <span style=\"color: #008080; text-decoration-color: #008080; font-weight: bold\">2.1179e+07</span>\n",
       "Fz on first tower top : <span style=\"color: #008080; text-decoration-color: #008080; font-weight: bold\">9.6434e+07</span> N\n",
       "\n",
       "</pre>\n"
      ],
      "text/plain": [
       "area_per_prestress : \u001b[1;36m1.6331e-03\u001b[0m m2\n",
       "Load per prestress bar : \u001b[1;36m2.0904e+06\u001b[0m N\n",
       "Load prestress bar : \u001b[1;36m7.5254e+07\u001b[0m N\n",
       "\n",
       "Fz on first tower top without prestress: \u001b[1;36m2.1179e+07\u001b[0m\n",
       "Fz on first tower top : \u001b[1;36m9.6434e+07\u001b[0m N\n",
       "\n"
      ]
     },
     "metadata": {},
     "output_type": "display_data"
    }
   ],
   "source": [
    "import numpy as np\n",
    "\n",
    "# unit: N, m\n",
    "area_per_prestress = 9 * 1 / 4 * (0.0152)**2 * np.pi\n",
    "Load_per_prestress_bar = 1.28e9 * area_per_prestress\n",
    "Load_prestress_bar = 36 * Load_per_prestress_bar\n",
    "\n",
    "msg = 'Area_per_prestress : {:.4e} m2\\n'.format(area_per_prestress)\n",
    "msg += 'Load per prestress bar : {:.4e} N\\n'.format(Load_per_prestress_bar)\n",
    "msg += 'Load prestress bar : {:.4e} N\\n'.format(Load_prestress_bar)\n",
    "\n",
    "Fz = 21179.4e3\n",
    "Fz_on_First_Tower = Fz + Load_prestress_bar\n",
    "\n",
    "msg += '\\nFz on first tower top without prestress: {:.4e}\\n'.format(Fz)\n",
    "msg += 'Fz on first tower top : {:.4e} N\\n'.format(Fz_on_First_Tower)\n",
    "\n",
    "print(msg)"
   ]
  },
  {
   "cell_type": "markdown",
   "id": "97339473-52d7-47a0-9ba5-21e04bfca112",
   "metadata": {
    "slideshow": {
     "slide_type": "slide"
    },
    "tags": []
   },
   "source": [
    "## 应力应变分布在有无损伤因子的条件下的对比\n",
    "\n",
    "对于应力：  \n",
    "有损伤因子的混凝土最大拉应力和最大压应力都比没有损伤因子的时候大。（拉：2.8，2.3；压：43，37） 两者的应力分布是比较相似的。  \n",
    "对于应变：  \n",
    "有损伤因子的混凝土相对于无损伤因子会偏大。且有无损伤因子对于应变的分布影响比较大。\n",
    "\n",
    "<!--|考虑**混凝土损伤因子**受拉应变云图|未考虑混凝土损伤因子受拉应变云图|\n",
    "|:----:|:----:|\n",
    "| ![Zy_7_S_Max_Principal.png](./Picture/First_Tower_analysis/Zy_7_S_Max_Principal.png) |![Zy_8_S_Max_Principal.png](./Picture/First_Tower_analysis/Zy_8_S_Max_Principal.png)|\n",
    "\n",
    "|考虑**混凝土损伤因子**受拉应变云图|未考虑混凝土损伤因子受拉应变云图|\n",
    "|:----:|:----:|\n",
    "| ![Zy_7_S_Min_Principal.png](./Picture/First_Tower_analysis/Zy_7_S_Min_Principal.png) |![Zy_8_S_Min_Principal.png](./Picture/First_Tower_analysis/Zy_8_S_Min_Principal.png)|\n",
    "\n",
    "|考虑**混凝土损伤因子**受拉应变云图|未考虑混凝土损伤因子受拉应变云图|\n",
    "|:----:|:----:|\n",
    "| ![Zy_7_PE_Max_Principal.png](./Picture/First_Tower_analysis/Zy_7_PE_Max_Principal.png) |![Zy_8_PE_Max_Principal.png](./Picture/First_Tower_analysis/Zy_8_PE_Max_Principal.png)|\n",
    "\n",
    "|考虑**混凝土损伤因子**受压应变云图|未考虑混凝土损伤因子受压应变云图|\n",
    "|:----:|:----:|\n",
    "| ![Zy_7_PE_Min_Principal.png](./Picture/First_Tower_analysis/Zy_7_PE_Min_Principal.png) |![Zy_8_PE_Min_Principal.png](./Picture/First_Tower_analysis/Zy_8_PE_Min_Principal.png)|-->\n",
    "\n",
    "\n",
    "||受拉应力云图|受拉应变云图|受压应力云图|受压应变云图|\n",
    "|:---|:---:|:---:|:---:|:---:|\n",
    "|**考虑损伤因子**|![Zy_7_S_Max_Principal.png](./Picture/First_Tower_analysis/Zy_7_S_Max_Principal.png)|![Zy_7_PE_Max_Principal.png](./Picture/First_Tower_analysis/Zy_7_PE_Max_Principal.png)|![Zy_7_S_Min_Principal.png](./Picture/First_Tower_analysis/Zy_7_S_Min_Principal.png)|![Zy_7_PE_Min_Principal.png](./Picture/First_Tower_analysis/Zy_7_PE_Min_Principal.png)|\n",
    "||max: 2.844Mpa|max: 3.076e-2|max: 43.35Mpa|max: 9.67e-3|\n",
    "|**不考虑损伤因子**|![Zy_8_S_Max_Principal.png](./Picture/First_Tower_analysis/Zy_8_S_Max_Principal.png)|![Zy_8_PE_Max_Principal.png](./Picture/First_Tower_analysis/Zy_8_PE_Max_Principal.png)|![Zy_8_S_Min_Principal.png](./Picture/First_Tower_analysis/Zy_8_S_Min_Principal.png)|![Zy_8_PE_Min_Principal.png](./Picture/First_Tower_analysis/Zy_8_PE_Min_Principal.png)|\n",
    "||max: 2.338Mpa|max: 3.875e-3|max: 37.1Mpa|max: 1.81e-3|"
   ]
  },
  {
   "cell_type": "markdown",
   "id": "fc0ee3dd-84fb-4989-983b-852d7d1e0d53",
   "metadata": {},
   "source": []
  },
  {
   "cell_type": "code",
   "execution_count": null,
   "id": "d8a25f30-e02f-463f-be10-74ca640bcb0e",
   "metadata": {},
   "outputs": [],
   "source": []
  },
  {
   "cell_type": "markdown",
   "id": "1351132a-dd86-416a-9e46-ed2aed5e41c3",
   "metadata": {
    "slideshow": {
     "slide_type": "slide"
    },
    "tags": []
   },
   "source": [
    "# 2023-02-11 底层钢塔计算 - 尝试修改荷载📢\n",
    "2023-02-11，zeyu\n",
    "\n",
    "- **Firsrt_Tower_lxq_1.cae**\n",
    "  - **模型描述**：\n",
    "    - None\n",
    "  - **结果分析**：\n",
    "    - **Firsrt_Tower_zy_1.inp:** 顶部荷载改为了-1.11794e8，比之前的大了一个数量级。错误：重力施加出错\n",
    "    - **Firsrt_Tower_zy_2.inp:** 顶部荷载和上面一样，较大。同时钢筋的塑性段略去。错误：重力施加出错\n",
    "    - **Firsrt_Tower_zy_3.inp:** 顶部荷载和上面一样，较大，钢筋没有塑性，混凝土没有损伤。错误：重力施加出错\n",
    "    - **Firsrt_Tower_zy_4.inp:** 顶部荷载改为-21179.4kN，和Excel中一致。运行较为顺畅，但钢筋没有塑性以及混凝土没有损伤因子。\n",
    "                            结果：整个过程中混凝土的最大拉应力为2.931Mpa，最大压应力为14.73Mpa. 此时对应的受拉塑性应变为3.321e-3，受压塑性应变为6.923e-4.\n",
    "    - **Firsrt_Tower_zy_5.inp:** 顶部荷载改为-21179.4kN，和Excel中一致。把钢筋塑性和混凝土损伤因子加上了。结果还是破坏的地方很多。\n",
    "                            结果：混凝土大范围出现拉伸破坏。"
   ]
  },
  {
   "cell_type": "markdown",
   "id": "205b3b4b-a18f-4a68-8860-de2b45922821",
   "metadata": {},
   "source": [
    "## 关于CDP模型的描述以及不考虑损伤因子时的应变分析"
   ]
  },
  {
   "cell_type": "code",
   "execution_count": 18,
   "id": "94c021df-d02e-4eae-bfe0-aada3bd3c259",
   "metadata": {
    "slideshow": {
     "slide_type": "slide"
    },
    "tags": []
   },
   "outputs": [
    {
     "data": {
      "image/png": "[encoded data removed]",
      "text/plain": [
       "<Figure size 640x480 with 1 Axes>"
      ]
     },
     "metadata": {},
     "output_type": "display_data"
    },
    {
     "data": {
      "text/html": [
       "<pre style=\"white-space:pre;overflow-x:auto;line-height:normal;font-family:Menlo,'DejaVu Sans Mono',consolas,'Courier New',monospace\">标准值\n",
       "最大压应力为: <span style=\"color: #008080; text-decoration-color: #008080; font-weight: bold\">44.4994</span>，对应的压应变为：<span style=\"color: #008080; text-decoration-color: #008080; font-weight: bold\">1.8487e-03</span>\n",
       "最大拉应力为：<span style=\"color: #008080; text-decoration-color: #008080; font-weight: bold\">2.9900</span>，对应的拉应变：<span style=\"color: #008080; text-decoration-color: #008080; font-weight: bold\">1.1765e-04</span>\n",
       "\n",
       "</pre>\n"
      ],
      "text/plain": [
       "标准值\n",
       "最大压应力为: \u001b[1;36m44.4994\u001b[0m，对应的压应变为：\u001b[1;36m1.8487e-03\u001b[0m\n",
       "最大拉应力为：\u001b[1;36m2.9900\u001b[0m，对应的拉应变：\u001b[1;36m1.1765e-04\u001b[0m\n",
       "\n"
      ]
     },
     "metadata": {},
     "output_type": "display_data"
    },
    {
     "data": {
      "text/html": [
       "<pre style=\"white-space:pre;overflow-x:auto;line-height:normal;font-family:Menlo,'DejaVu Sans Mono',consolas,'Courier New',monospace\">- **Firsrt_Tower_zy_4.inp:** \n",
       "顶部荷载改为-<span style=\"color: #008080; text-decoration-color: #008080; font-weight: bold\">21179.</span>4kN，和Excel中一致。运行较为顺畅，但钢筋没有塑性以及混凝土没有损伤因子。 \n",
       "结果：整个过程中混凝土的最大拉应力为2.931Mpa，最大压应力为14.73Mpa. \n",
       "此时对应的受拉塑性应变为3.<span style=\"color: #008080; text-decoration-color: #008080; font-weight: bold\">321e-3</span>，受压塑性应变为6.<span style=\"color: #008080; text-decoration-color: #008080; font-weight: bold\">923e-4</span>.\n",
       "\n",
       "\n",
       "</pre>\n"
      ],
      "text/plain": [
       "- **Firsrt_Tower_zy_4.inp:** \n",
       "顶部荷载改为-\u001b[1;36m21179.\u001b[0m4kN，和Excel中一致。运行较为顺畅，但钢筋没有塑性以及混凝土没有损伤因子。 \n",
       "结果：整个过程中混凝土的最大拉应力为2.931Mpa，最大压应力为14.73Mpa. \n",
       "此时对应的受拉塑性应变为3.\u001b[1;36m321e-3\u001b[0m，受压塑性应变为6.\u001b[1;36m923e-4\u001b[0m.\n",
       "\n",
       "\n"
      ]
     },
     "metadata": {},
     "output_type": "display_data"
    },
    {
     "data": {
      "image/png": "[encoded data removed]",
      "text/plain": [
       "<Figure size 640x480 with 1 Axes>"
      ]
     },
     "metadata": {},
     "output_type": "display_data"
    },
    {
     "data": {
      "text/html": [
       "<pre style=\"white-space:pre;overflow-x:auto;line-height:normal;font-family:Menlo,'DejaVu Sans Mono',consolas,'Courier New',monospace\">设计值\n",
       "最大压应力为: <span style=\"color: #008080; text-decoration-color: #008080; font-weight: bold\">31.7977</span>，对应的压应变为：<span style=\"color: #008080; text-decoration-color: #008080; font-weight: bold\">1.6807e-03</span>\n",
       "最大拉应力为：<span style=\"color: #008080; text-decoration-color: #008080; font-weight: bold\">2.1342</span>，对应的拉应变：<span style=\"color: #008080; text-decoration-color: #008080; font-weight: bold\">1.0084e-04</span>\n",
       "\n",
       "</pre>\n"
      ],
      "text/plain": [
       "设计值\n",
       "最大压应力为: \u001b[1;36m31.7977\u001b[0m，对应的压应变为：\u001b[1;36m1.6807e-03\u001b[0m\n",
       "最大拉应力为：\u001b[1;36m2.1342\u001b[0m，对应的拉应变：\u001b[1;36m1.0084e-04\u001b[0m\n",
       "\n"
      ]
     },
     "metadata": {},
     "output_type": "display_data"
    }
   ],
   "source": [
    "from code_concrete_latest import CDP_model\n",
    "\n",
    "cc = CDP_model(this_model=None)\n",
    "cc.SetValue(code='C70', strength_type='Standard')\n",
    "cc.Plot()\n",
    "\n",
    "msg = '标准值\\n' \n",
    "msg += '最大压应力为: {:.4f}，对应的压应变为：{:.4e}\\n'.format(\n",
    "    cc.compression_yield_stress[cc.compression_inelastic_index], cc.compression_inelastic_strain[cc.compression_inelastic_index])\n",
    "msg += '最大拉应力为：{:.4f}，对应的拉应变：{:.4e}\\n'.format(\n",
    "    cc.tensile_yield_stress[cc.tensile_inelastic_index], cc.tensile_inelastic_strain[cc.tensile_inelastic_index])\n",
    "\n",
    "print(msg)\n",
    "\n",
    "msg = '- **Firsrt_Tower_zy_4.inp:** 顶部荷载改为-21179.4kN，和Excel中一致。运行较为顺畅，但钢筋没有塑性以及混凝土没有损伤因子。 \\n'\n",
    "msg += '结果：整个过程中混凝土的最大拉应力为2.931Mpa，最大压应力为14.73Mpa. 此时对应的受拉塑性应变为3.321e-3，受压塑性应变为6.923e-4.\\n\\n'\n",
    "print(msg)\n",
    "\n",
    "cc.SetValue(code='C70', strength_type='Design')\n",
    "cc.Plot()\n",
    "\n",
    "msg = '设计值\\n' \n",
    "msg += '最大压应力为: {:.4f}，对应的压应变为：{:.4e}\\n'.format(\n",
    "    cc.compression_yield_stress[cc.compression_inelastic_index], cc.compression_inelastic_strain[cc.compression_inelastic_index])\n",
    "msg += '最大拉应力为：{:.4f}，对应的拉应变：{:.4e}\\n'.format(\n",
    "    cc.tensile_yield_stress[cc.tensile_inelastic_index], cc.tensile_inelastic_strain[cc.tensile_inelastic_index])\n",
    "\n",
    "print(msg)"
   ]
  },
  {
   "cell_type": "code",
   "execution_count": 15,
   "id": "92d7492e-8e60-4a7e-8e95-f2ab50db870f",
   "metadata": {},
   "outputs": [
    {
     "data": {
      "text/html": [
       "<pre style=\"white-space:pre;overflow-x:auto;line-height:normal;font-family:Menlo,'DejaVu Sans Mono',consolas,'Courier New',monospace\"><span style=\"color: #800080; text-decoration-color: #800080; font-weight: bold\">diameter</span><span style=\"font-weight: bold\">(</span>m <span style=\"font-weight: bold\">)</span> : <span style=\"color: #008080; text-decoration-color: #008080; font-weight: bold\">2.5000e-02</span>    <span style=\"color: #008080; text-decoration-color: #008080; font-weight: bold\">1.6000e-02</span>    \n",
       "area    <span style=\"font-weight: bold\">(</span>m2<span style=\"font-weight: bold\">)</span> : <span style=\"color: #008080; text-decoration-color: #008080; font-weight: bold\">4.9087e-04</span>    <span style=\"color: #008080; text-decoration-color: #008080; font-weight: bold\">2.0106e-04</span>    \n",
       "</pre>\n"
      ],
      "text/plain": [
       "\u001b[1;35mdiameter\u001b[0m\u001b[1m(\u001b[0mm \u001b[1m)\u001b[0m : \u001b[1;36m2.5000e-02\u001b[0m    \u001b[1;36m1.6000e-02\u001b[0m    \n",
       "area    \u001b[1m(\u001b[0mm2\u001b[1m)\u001b[0m : \u001b[1;36m4.9087e-04\u001b[0m    \u001b[1;36m2.0106e-04\u001b[0m    \n"
      ]
     },
     "metadata": {},
     "output_type": "display_data"
    }
   ],
   "source": [
    "import numpy as np\n",
    "\n",
    "# unit: N, m\n",
    "dim = np.array([25e-3, 16e-3])\n",
    "area = dim**2 * np.pi * (1 / 4)\n",
    "\n",
    "line1 = 'diameter(m ) : '\n",
    "line2 = 'area    (m2) : '\n",
    "for i in range(dim.shape[0]):\n",
    "    line1 += '{:8.4e}    '.format(dim[i])\n",
    "    line2 += '{:8.4e}    '.format(area[i])\n",
    "\n",
    "print(line1 + '\\n' + line2)"
   ]
  },
  {
   "cell_type": "code",
   "execution_count": null,
   "id": "0ec48809-946f-4e72-9007-5f1f3ab8df2c",
   "metadata": {},
   "outputs": [],
   "source": []
  }
 ],
 "metadata": {
  "kernelspec": {
   "display_name": "Python 3 (ipykernel)",
   "language": "python",
   "name": "python3"
  },
  "language_info": {
   "codemirror_mode": {
    "name": "ipython",
    "version": 3
   },
   "file_extension": ".py",
   "mimetype": "text/x-python",
   "name": "python",
   "nbconvert_exporter": "python",
   "pygments_lexer": "ipython3",
   "version": "3.10.6"
  }
 },
 "nbformat": 4,
 "nbformat_minor": 5
}
